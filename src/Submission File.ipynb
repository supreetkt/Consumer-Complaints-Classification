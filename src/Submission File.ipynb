{
 "cells": [
  {
   "cell_type": "markdown",
   "metadata": {},
   "source": [
    "# Multiclass Classification For User Complaints in Banking\n",
    "\n",
    "## Introduction\n",
    "This is an NLP-based problem solving approach for the dataset available at https://catalog.data.gov/dataset/consumer-complaint-database for consumer-complaint database for the Banking sector. It contains 1,179,715 rows and 18 columns.\n",
    "\n",
    "This notebook is an attempt to solve a prediction problem with 'Product' as the label and 'Consumer complaint narrative' as\n",
    "input. After looking at the features, I decided to go ahead with only these two features and dropped the others.\n",
    "The reason for not taking other columns - Issue and sub-issue would actually try to give away the product easily. Company public response is like a categorical variable with 11 possible values. But I don't believe that can help classify the nature of complaints. Similarly for Tags, Consumer consent provided, Submitted via, Date sent to company and others."
   ]
  },
  {
   "cell_type": "code",
   "execution_count": 1,
   "metadata": {},
   "outputs": [
    {
     "name": "stderr",
     "output_type": "stream",
     "text": [
      "c:\\users\\skaurtakkar\\appdata\\local\\programs\\python\\python36\\lib\\site-packages\\gensim\\utils.py:1212: UserWarning: detected Windows; aliasing chunkize to chunkize_serial\n",
      "  warnings.warn(\"detected Windows; aliasing chunkize to chunkize_serial\")\n",
      "Using TensorFlow backend.\n"
     ]
    }
   ],
   "source": [
    "import nltk\n",
    "import pickle\n",
    "import gensim\n",
    "import pandas as pd\n",
    "from nltk.corpus import stopwords\n",
    "from nltk.stem.porter import PorterStemmer\n",
    "from nltk.corpus import wordnet as wn\n",
    "from stop_words import get_stop_words\n",
    "import re, sys, math, string\n",
    "import calendar as cal\n",
    "import numpy as np\n",
    "from ast import literal_eval\n",
    "import logging\n",
    "from gensim.models import word2vec\n",
    "#from textblob import TextBlob\n",
    "from sklearn.model_selection import train_test_split\n",
    "from sklearn.ensemble import RandomForestClassifier\n",
    "from sklearn.metrics import accuracy_score, confusion_matrix, roc_curve\n",
    "import matplotlib.pyplot as plt\n",
    "import warnings\n",
    "warnings.filterwarnings(\"ignore\")\n",
    "from sklearn.model_selection import train_test_split\n",
    "from sklearn.utils import shuffle\n",
    "\n",
    "from sklearn.linear_model import LogisticRegression\n",
    "from sklearn.ensemble import RandomForestClassifier\n",
    "from sklearn.svm import LinearSVC\n",
    "from sklearn.model_selection import cross_val_score\n",
    "from  sklearn.calibration import CalibratedClassifierCV\n",
    "from keras.layers import Embedding\n",
    "from keras.layers import Dense, Input, GlobalMaxPooling1D\n",
    "from keras.layers import Conv1D, MaxPooling1D, Embedding\n",
    "from keras.models import Model\n",
    "from keras.layers import Input, Dense, Embedding, Conv2D, MaxPooling2D, Dropout,concatenate\n",
    "from keras.layers.core import Reshape, Flatten\n",
    "from keras.callbacks import EarlyStopping\n",
    "from keras.optimizers import Adam\n",
    "from keras.models import Model\n",
    "from keras import regularizers\n",
    "from keras.preprocessing.text import Tokenizer\n",
    "from keras.preprocessing.sequence import pad_sequences\n",
    "from keras.utils import to_categorical\n",
    "from gensim.models.keyedvectors import KeyedVectors\n",
    "from sklearn.naive_bayes import MultinomialNB\n",
    "from sklearn import metrics\n",
    "import altair as alt\n",
    "from collections import Counter\n",
    "from numpy  import array\n",
    "import seaborn as sns\n",
    "#logging.basicConfig(format='%(asctime)s : %(levelname)s : %(message)s',level=logging.INFO)\n",
    "\n",
    "main_df = pd.read_csv('data/Consumer_Complaints.csv')\n",
    "\n",
    "# creating a list of extra stop-words as these repeatedly appear in all complaints\n",
    "# xxxx is used in the data to hide sensitive information\n",
    "stplist = ['title', 'body', 'xxxx']\n",
    "english_stopwords = get_stop_words(language='english')\n",
    "english_stopwords += stplist\n",
    "english_stopwords = list(set(english_stopwords))\n",
    "\n",
    "def get_wordnet_pos(word):\n",
    "    \"\"\"\n",
    "    Function that determines the the Part-of-speech (POS) tag.\n",
    "    Acts as input to lemmatizer\n",
    "    \"\"\"\n",
    "    if word.startswith('N'):\n",
    "        return wn.NOUN\n",
    "    elif word.startswith('V'):\n",
    "        return wn.VERB\n",
    "    elif word.startswith('J'):\n",
    "        return wn.ADJ\n",
    "    elif word.startswith('R'):\n",
    "        return wn.ADV\n",
    "    else:\n",
    "        return wn.NOUN\n",
    "\n",
    "\n",
    "def clean_up(text):\n",
    "    \"\"\"\n",
    "    Function to clean data.\n",
    "    Steps:\n",
    "    - Removing special characters, numbers\n",
    "    - Lemmatization\n",
    "    - Stop-words removal\n",
    "    - Getting a unique list of words\n",
    "    - TODO: try removing names and company names like Navient (Proper nouns)\n",
    "    \"\"\"\n",
    "    #lemma = WordNetLemmatizer()\n",
    "    lemmatizer = nltk.WordNetLemmatizer().lemmatize\n",
    "    text = re.sub('\\W+', ' ', str(text))\n",
    "    text = re.sub(r'[0-9]+', '', text.lower())\n",
    "    # correcting spellings of words using TextBlob - user complaints are bound to have spelling mistakes\n",
    "    # However, this idea was later dropped because TextBlob may change the words.\n",
    "    # text = TextBlob(text).correct()\n",
    "    word_pos = nltk.pos_tag(nltk.word_tokenize(text))\n",
    "    normalized_text_lst = [lemmatizer(x[0], get_wordnet_pos(x[1])).lower() for x in word_pos]\n",
    "    stop_words_free = [i for i in normalized_text_lst if i not in english_stopwords and len(i) > 3]\n",
    "    stop_words_free = list(set(stop_words_free))\n",
    "    return(stop_words_free)\n",
    "\n",
    "\n",
    "def get_average_word2vec(complaints_lst, model, num_features=300):\n",
    "    \"\"\"\n",
    "    Function to average the vectors in a list.\n",
    "    Say a list contains 'flower' and 'leaf'. Then this function gives - model[flower] + model[leaf]/2\n",
    "    - index2words gets the list of words in the model.\n",
    "    - Gets the list of words that are contained in index2words (vectorized_lst) and \n",
    "      the number of those words (nwords).\n",
    "    - Gets the average using these two and numpy.\n",
    "    \"\"\"\n",
    "    #complaint_feature_vecs = np.zeros((len(complaints_lst),num_features), dtype=\"float32\") #?used?\n",
    "    index2word_set = set(model.wv.index2word)\n",
    "    vectorized_lst = []\n",
    "    vectorized_lst = [model[word] if word in index2word_set else np.zeros(num_features) for word in \\\n",
    "                      complaints_lst]    \n",
    "    nwords = len(vectorized_lst)\n",
    "    summed = np.sum(vectorized_lst, axis=0)\n",
    "    averaged_vector = np.divide(summed, nwords)\n",
    "    return averaged_vector"
   ]
  },
  {
   "cell_type": "markdown",
   "metadata": {},
   "source": [
    "## Basic EDA\n",
    "I would have liked to do more plots such as TSNE for word2Vec model which is generated later on and finding out most frequently used words, most frequently mis-spelled words, category-wise exploration of words.\n",
    "I would have also liked to do PCA and display the results as plots in 2-dimensional plane to visualize the word models.\n",
    "As can be seen, classes are highly imbalanced."
   ]
  },
  {
   "cell_type": "code",
   "execution_count": 79,
   "metadata": {},
   "outputs": [],
   "source": [
    "df = main_df\n",
    "df = df[['Product', 'Consumer complaint narrative']]\n",
    "\n",
    "# Removing values which don't have 'Consumer complaint narrative' field. As this is the main field used for NLP \n",
    "# work. - 348,928 columns with not null consumer complaints.\n",
    "df = df[pd.notnull(df['Consumer complaint narrative'])]\n",
    "df = df.rename({'Consumer complaint narrative':'complaint', 'Product':'product'},\n",
    "               axis='columns')\n",
    "\n",
    "products_count_df = df.groupby('product').complaint.count().to_frame()\n",
    "products_count_df.reset_index(level=0, inplace=True)\n",
    "\n",
    "\n",
    "values = np.array([2,5,3,6,4,7,1])   \n",
    "idx = np.array(df['product']) \n",
    "clrs = ['grey' if (x < max(values)) else 'red' for x in values ]\n",
    "sb.barplot(x=idx, y=values, palette=clrs) # color=clrs)\n",
    "\n",
    "\n",
    "alt.Chart(products_count_df).mark_bar().encode(\n",
    "    x='product:O',\n",
    "    y=\"complaint:Q\",\n",
    "    color=alt.condition(\n",
    "        alt.datum.product == 'Debt collection',\n",
    "        alt.value('orange'),  \n",
    "        alt.value('steelblue')   \n",
    "    )\n",
    ").properties(width=550)"
   ]
  },
  {
   "cell_type": "markdown",
   "metadata": {},
   "source": [
    "There is imbalance in data. Virtual currency type of complaints are 16 in number while debt collection complaints\n",
    "are a total of 79522. This can be seen in the plot below.\n",
    "This can be dealt with my up-sampling the under-represented classes by say, bootstrapping and sampling techniques, or by some similar word generation algorithm, which may generate synthetic cases."
   ]
  },
  {
   "cell_type": "code",
   "execution_count": 87,
   "metadata": {},
   "outputs": [
    {
     "data": {
      "image/png": "[encoded data removed]",
      "text/plain": [
       "<Figure size 864x576 with 1 Axes>"
      ]
     },
     "metadata": {
      "needs_background": "light"
     },
     "output_type": "display_data"
    }
   ],
   "source": [
    "plt.figure(figsize=(12,8))\n",
    "# plot barh chart with index as x values\n",
    "ax = sns.barplot(products_count_df['product'], products_count_df['complaint'])\n",
    "ax.get_yaxis().set_major_formatter(plt.FuncFormatter(lambda x, loc: \"{:,}\".format(int(x))))\n",
    "ax.set(xlabel=\"Product\", ylabel='Count')\n",
    "ax.set_xticklabels(products_count_df['product'])\n",
    "for item in ax.get_xticklabels(): item.set_rotation(90)\n",
    "for i, v in enumerate(products_count_df[\"complaint\"].iteritems()):        \n",
    "    ax.text(i ,v[1], \"{:,}\".format(v[1]), color='m', va ='bottom', rotation=45)\n",
    "plt.tight_layout()\n",
    "plt.show()"
   ]
  },
  {
   "cell_type": "markdown",
   "metadata": {},
   "source": [
    "## Preprocessing of Data"
   ]
  },
  {
   "cell_type": "markdown",
   "metadata": {},
   "source": [
    "Dealing with date - Removed after these considerations:\n",
    "1. The model accuracy wasn't getting affected a lot. Only by a few decimal places.\n",
    "2. Some models don't take negative values\n",
    "Code for handling date is commented out.\n",
    "\n",
    "Up-sampling would help in this case, to increase the number of instances of classes like 'Virtual currency' and 'Other financial services' as these have very less cases."
   ]
  },
  {
   "cell_type": "code",
   "execution_count": 3,
   "metadata": {},
   "outputs": [
    {
     "data": {
      "text/html": [
       "<div>\n",
       "<style scoped>\n",
       "    .dataframe tbody tr th:only-of-type {\n",
       "        vertical-align: middle;\n",
       "    }\n",
       "\n",
       "    .dataframe tbody tr th {\n",
       "        vertical-align: top;\n",
       "    }\n",
       "\n",
       "    .dataframe thead th {\n",
       "        text-align: right;\n",
       "    }\n",
       "</style>\n",
       "<table border=\"1\" class=\"dataframe\">\n",
       "  <thead>\n",
       "    <tr style=\"text-align: right;\">\n",
       "      <th></th>\n",
       "      <th>product</th>\n",
       "      <th>complaint</th>\n",
       "    </tr>\n",
       "  </thead>\n",
       "  <tbody>\n",
       "    <tr>\n",
       "      <th>0</th>\n",
       "      <td>Student loan</td>\n",
       "      <td>[credit, student, company, bring, keep, delinq...</td>\n",
       "    </tr>\n",
       "    <tr>\n",
       "      <th>1</th>\n",
       "      <td>Credit card or prepaid card</td>\n",
       "      <td>[account, sign, monitoring, access, capital, p...</td>\n",
       "    </tr>\n",
       "    <tr>\n",
       "      <th>2</th>\n",
       "      <td>Mortgage</td>\n",
       "      <td>[link, speak, collect, corporate, advertising,...</td>\n",
       "    </tr>\n",
       "    <tr>\n",
       "      <th>3</th>\n",
       "      <td>Mortgage</td>\n",
       "      <td>[respond, finally, wait, upon, safe, discount,...</td>\n",
       "    </tr>\n",
       "    <tr>\n",
       "      <th>4</th>\n",
       "      <td>Credit reporting</td>\n",
       "      <td>[credit, find, significant, please, last, help...</td>\n",
       "    </tr>\n",
       "  </tbody>\n",
       "</table>\n",
       "</div>"
      ],
      "text/plain": [
       "                       product  \\\n",
       "0                 Student loan   \n",
       "1  Credit card or prepaid card   \n",
       "2                     Mortgage   \n",
       "3                     Mortgage   \n",
       "4             Credit reporting   \n",
       "\n",
       "                                           complaint  \n",
       "0  [credit, student, company, bring, keep, delinq...  \n",
       "1  [account, sign, monitoring, access, capital, p...  \n",
       "2  [link, speak, collect, corporate, advertising,...  \n",
       "3  [respond, finally, wait, upon, safe, discount,...  \n",
       "4  [credit, find, significant, please, last, help...  "
      ]
     },
     "execution_count": 3,
     "metadata": {},
     "output_type": "execute_result"
    }
   ],
   "source": [
    "# df['year'] = df['received_dt'].str.slice(6, 10).astype(int)\n",
    "# df['day'] = df['received_dt'].str.slice(3, 5).astype(int)\n",
    "# df['month'] = df['received_dt'].str.slice(0, 2).astype(int)\n",
    "\n",
    "# # calculate and check these values once -- !! --\n",
    "# df['sin_day'] = np.sin(2*np.pi*(df['day'] - 1)/np.vectorize(calc_monthrange)(df['year'], df['month']))\n",
    "# df['cos_day'] = np.cos(2*np.pi*(df['day'] - 1)/np.vectorize(calc_monthrange)(df['year'], df['month']))\n",
    "\n",
    "# df['sin_month'] = np.sin(2*np.pi*(df['month'] - 1)/12)\n",
    "# df['cos_month'] = np.cos(2*np.pi*(df['month'] - 1)/12)\n",
    "\n",
    "# drop_columns = ['received_dt', 'year', 'month', 'day', ]\n",
    "# df.drop(drop_columns, inplace=True, axis=1)\n",
    "\n",
    "# ---\n",
    "# The next two lines take some time to run because they are cleaning each row of the text.\n",
    "# I saved this dataframe and now, I'm loading the same here.\n",
    "# df['complaint'] = df['complaint'].apply(clean_up)\n",
    "# df.to_csv(\"data/modified/output_consumer_complaints.csv\", index=False)\n",
    "# ---\n",
    "\n",
    "# Loading this from the saved version of this file.\n",
    "input_df = pd.read_csv('data/modified/output_consumer_complaints.csv', \n",
    "                       converters={\"complaint\": literal_eval}) #to fetch date as a list\n",
    "input_df.head()"
   ]
  },
  {
   "cell_type": "code",
   "execution_count": 4,
   "metadata": {},
   "outputs": [
    {
     "name": "stdout",
     "output_type": "stream",
     "text": [
      "Removing rows which have been stripped of words after the cleaning process. These contain empty lists:\n",
      "Before:  (349932, 2)\n",
      "After:  (349918, 2)\n"
     ]
    }
   ],
   "source": [
    "# Some rows have been stripped of words after the cleaning process and contain empty lists\n",
    "# These have to be removed as they don't help in the prediction problem at all.\n",
    "# Moreover, they produce NaNs after going through word2Vec, giving a vector of 300 (num_of_features) NaNs each.\n",
    "print(\"Removing rows which have been stripped of words after the cleaning process. These contain empty lists:\")\n",
    "print(\"Before: \", input_df.shape)\n",
    "input_df = input_df[input_df.astype(str)['complaint'] != '[]']\n",
    "print(\"After: \", input_df.shape)\n",
    "# 14 rows removed in total.\n",
    "bow_input_df = input_df"
   ]
  },
  {
   "cell_type": "markdown",
   "metadata": {},
   "source": [
    "## Technique I: Bag of Words Model (CountVectorizer)"
   ]
  },
  {
   "cell_type": "code",
   "execution_count": 5,
   "metadata": {},
   "outputs": [],
   "source": [
    "from sklearn.feature_extraction.text import TfidfVectorizer\n",
    "from numpy import array\n",
    "\n",
    "min_word_count = 10\n",
    "products_count_df = bow_input_df.groupby('product').complaint.count().to_frame()\n",
    "products_count_df.reset_index(level=0, inplace=True)\n",
    "class_labels = array(products_count_df['product'].unique())"
   ]
  },
  {
   "cell_type": "code",
   "execution_count": 6,
   "metadata": {},
   "outputs": [],
   "source": [
    "# TfidfVectorizer handles tokenization.\n",
    "bow_input_df['complaints_untokenized'] = bow_input_df['complaint'].apply(lambda x: ' '.join(x))\n",
    "\n",
    "# Goes out of memory without max_features on p2.xlarge. I tried to increase max_features but the memory error \n",
    "# wouldn't allow me.\n",
    "tfidf_converter = TfidfVectorizer(max_features=1500, sublinear_tf=True, min_df=5, norm='l2', encoding='latin-1', \n",
    "                                  stop_words='english')\n",
    "features = tfidf_converter.fit_transform(bow_input_df.complaints_untokenized).toarray()\n",
    "labels = class_labels\n",
    "# Naive Bayes takes only non-negative values. So not adding the date features to the model."
   ]
  },
  {
   "cell_type": "code",
   "execution_count": 55,
   "metadata": {},
   "outputs": [
    {
     "name": "stdout",
     "output_type": "stream",
     "text": [
      "(48988, 2)\n",
      "(244942, 2)\n",
      "(104976, 2)\n"
     ]
    }
   ],
   "source": [
    "ktrain_x, ktest_x, ktrain_y, ktest_y = train_test_split(bow_input_df['complaints_untokenized'], bow_input_df['product'], \n",
    "                                                        test_size=0.3, random_state=123)\n",
    "\n",
    "# Used later for keras.\n",
    "train_df = pd.concat([pd.DataFrame(ktrain_x), pd.DataFrame(ktrain_y, columns=[\"product\"])], axis=1)      \n",
    "val_df = train_df.sample(frac=0.2,random_state=200)\n",
    "test_df = pd.concat([pd.DataFrame(ktest_x), pd.DataFrame(ktest_y, columns=[\"product\"])], axis=1)\n",
    "\n",
    "#texts = train_df.complaint\n",
    "print(val_df.shape)\n",
    "print(train_df.shape)\n",
    "print(test_df.shape)"
   ]
  },
  {
   "cell_type": "markdown",
   "metadata": {},
   "source": [
    "## Training and Test Sets"
   ]
  },
  {
   "cell_type": "code",
   "execution_count": 44,
   "metadata": {},
   "outputs": [],
   "source": [
    "train_x, test_x, train_y, test_y = train_test_split(features, bow_input_df['product'], test_size=0.3,\n",
    "                                                    random_state=123)"
   ]
  },
  {
   "cell_type": "markdown",
   "metadata": {},
   "source": [
    "## Modelling\n",
    "The TF-IDF model used only allows a limited number of words to be chosen as the features. Going beyond that gives an out-of-memory error. Given that this limit reduces the feature space, the results expected would be better with more memory power.\n",
    "\n",
    "Models that I implemented:\n",
    "\n",
    "1. Naive Bayes: Simple and can work pretty well.\n",
    "2. Random Forest: It is known to perform quite well by using dumb classfiers to build a powerful learning model\n",
    "3. Linear SVM: Seemed to perform well on examples online.\n",
    "\n",
    "Given more time, I would have tried Logistic Regression, Radial SVM, Neural nets, etc."
   ]
  },
  {
   "cell_type": "code",
   "execution_count": 8,
   "metadata": {},
   "outputs": [],
   "source": [
    "# Model 1: Naive Bayes model\n",
    "bayes_model = MultinomialNB()\n",
    "bayes_clf = bayes_model.fit(train_x, train_y)"
   ]
  },
  {
   "cell_type": "code",
   "execution_count": 9,
   "metadata": {},
   "outputs": [
    {
     "name": "stdout",
     "output_type": "stream",
     "text": [
      "Accuracy of Naive Bayes is: 37.03.\n"
     ]
    }
   ],
   "source": [
    "naive_preds = bayes_clf.predict(test_x)\n",
    "naive_preds_conf = bayes_clf.predict_proba(test_x)\n",
    "naive_preds_conf_df = pd.DataFrame(naive_preds_conf, index=range(naive_preds_conf.shape[0]),\n",
    "                          columns=range(naive_preds_conf.shape[1]))\n",
    "naive_preds_conf_df['predicted_conf'] = naive_preds_conf_df.max(axis=1)\n",
    "naive_results = pd.DataFrame(data={\"actual_label\":test_y, \"predicted_label\":naive_preds})\n",
    "\n",
    "naive_results = pd.concat([naive_results, naive_preds_conf_df['predicted_conf']], axis=1)\n",
    "# Accuracy: wherever the labels were correctly predicted.\n",
    "naive_results['correctly_predicted'] = np.where(naive_results['actual_label'] == naive_results['predicted_label'], \n",
    "                                                1, 0)\n",
    "naive_accuracy = (naive_results['correctly_predicted'].sum()/naive_results.shape[0])*100\n",
    "print(\"Accuracy of Naive Bayes is: {0:.2f}.\".format(naive_accuracy))\n",
    "# 37.78 with 1500 features"
   ]
  },
  {
   "cell_type": "code",
   "execution_count": 10,
   "metadata": {},
   "outputs": [
    {
     "name": "stdout",
     "output_type": "stream",
     "text": [
      "                                                                              precision    recall  f1-score   support\n",
      "\n",
      "                                                                Student loan       0.46      0.59      0.52      4346\n",
      "                                                 Credit card or prepaid card       0.62      0.16      0.25      3198\n",
      "                                                                    Mortgage       0.48      0.21      0.29      2841\n",
      "                                                            Credit reporting       0.48      0.39      0.43      5671\n",
      "Credit reporting, credit repair services, or other personal consumer reports       0.45      0.31      0.37      5452\n",
      "                                                             Debt collection       0.74      0.06      0.11      9440\n",
      "                                                       Vehicle loan or lease       0.56      0.81      0.66     23573\n",
      "                          Money transfer, virtual currency, or money service       0.69      0.82      0.75     23859\n",
      "                                                 Checking or savings account       0.83      0.47      0.60      1410\n",
      "                                   Payday loan, title loan, or personal loan       0.00      0.00      0.00       452\n",
      "                                                               Consumer Loan       0.74      0.92      0.82     15108\n",
      "                                                     Bank account or service       0.00      0.00      0.00        89\n",
      "                                                                 Credit card       0.46      0.01      0.02       541\n",
      "                                                             Money transfers       0.38      0.03      0.05      1088\n",
      "                                                                Prepaid card       0.75      0.02      0.04       442\n",
      "                                                                 Payday loan       0.83      0.76      0.79      6019\n",
      "                                                     Other financial service       0.68      0.04      0.08      1441\n",
      "                                                            Virtual currency       0.00      0.00      0.00         6\n",
      "\n",
      "                                                                   micro avg       0.63      0.63      0.63    104976\n",
      "                                                                   macro avg       0.51      0.31      0.32    104976\n",
      "                                                                weighted avg       0.63      0.63      0.58    104976\n",
      "\n"
     ]
    }
   ],
   "source": [
    "print(metrics.classification_report(test_y, naive_preds, target_names=bow_input_df['product'].unique()))"
   ]
  },
  {
   "cell_type": "code",
   "execution_count": 11,
   "metadata": {},
   "outputs": [
    {
     "name": "stderr",
     "output_type": "stream",
     "text": [
      "[Parallel(n_jobs=1)]: Using backend SequentialBackend with 1 concurrent workers.\n",
      "[Parallel(n_jobs=1)]: Done 100 out of 100 | elapsed:  7.3min finished\n",
      "[Parallel(n_jobs=1)]: Using backend SequentialBackend with 1 concurrent workers.\n",
      "[Parallel(n_jobs=1)]: Done 100 out of 100 | elapsed:    7.7s finished\n",
      "[Parallel(n_jobs=1)]: Using backend SequentialBackend with 1 concurrent workers.\n",
      "[Parallel(n_jobs=1)]: Done 100 out of 100 | elapsed:    9.0s finished\n"
     ]
    }
   ],
   "source": [
    "# Model 2: Random Forest Classifier\n",
    "rf_model = RandomForestClassifier(n_estimators = 100, max_features='sqrt', verbose=1, warm_start=False,\n",
    "                                 random_state=123) #ntrainDataVecs=4, max_depth=2)\n",
    "rf_clf = rf_model.fit(train_x, train_y)\n",
    "rf_preds = rf_clf.predict(test_x)\n",
    "rf_preds_conf = rf_clf.predict_proba(test_x)\n",
    "rf_preds_conf_df = pd.DataFrame(rf_preds_conf, index=range(rf_preds_conf.shape[0]),\n",
    "                          columns=range(rf_preds_conf.shape[1]))\n",
    "\n",
    "rf_preds_conf_df['predicted_conf'] = rf_preds_conf_df.max(axis=1)\n",
    "rf_results = pd.DataFrame(data={\"actual_label\":test_y, \"predicted_label\":rf_preds})\n",
    "rf_results = pd.concat([rf_results, rf_preds_conf_df['predicted_conf']], axis=1)"
   ]
  },
  {
   "cell_type": "code",
   "execution_count": 12,
   "metadata": {},
   "outputs": [
    {
     "name": "stdout",
     "output_type": "stream",
     "text": [
      "Accuracy of Random Forest obtained is: 41.49.\n",
      "                                                                              precision    recall  f1-score   support\n",
      "\n",
      "                                                                Student loan       0.46      0.62      0.53      4346\n",
      "                                                 Credit card or prepaid card       0.49      0.21      0.29      3198\n",
      "                                                                    Mortgage       0.48      0.24      0.32      2841\n",
      "                                                            Credit reporting       0.48      0.45      0.46      5671\n",
      "Credit reporting, credit repair services, or other personal consumer reports       0.48      0.38      0.42      5452\n",
      "                                                             Debt collection       0.82      0.32      0.46      9440\n",
      "                                                       Vehicle loan or lease       0.68      0.88      0.77     23573\n",
      "                          Money transfer, virtual currency, or money service       0.76      0.89      0.82     23859\n",
      "                                                 Checking or savings account       0.76      0.50      0.61      1410\n",
      "                                   Payday loan, title loan, or personal loan       0.68      0.06      0.11       452\n",
      "                                                               Consumer Loan       0.85      0.94      0.89     15108\n",
      "                                                     Bank account or service       1.00      0.01      0.02        89\n",
      "                                                                 Credit card       0.57      0.11      0.19       541\n",
      "                                                             Money transfers       0.44      0.06      0.11      1088\n",
      "                                                                Prepaid card       0.73      0.17      0.28       442\n",
      "                                                                 Payday loan       0.83      0.85      0.84      6019\n",
      "                                                     Other financial service       0.49      0.05      0.10      1441\n",
      "                                                            Virtual currency       1.00      0.50      0.67         6\n",
      "\n",
      "                                                                   micro avg       0.71      0.71      0.71    104976\n",
      "                                                                   macro avg       0.67      0.40      0.44    104976\n",
      "                                                                weighted avg       0.70      0.71      0.68    104976\n",
      "\n"
     ]
    }
   ],
   "source": [
    "# Accuracy: wherever the labels were correctly predicted.\n",
    "rf_results['correctly_predicted'] = np.where(rf_results['actual_label'] == rf_results['predicted_label'], 1, 0)\n",
    "rf_accuracy = (rf_results['correctly_predicted'].sum()/rf_results.shape[0])*100\n",
    "print(\"Accuracy of Random Forest obtained is: {0:.2f}.\".format(rf_accuracy))\n",
    "print(metrics.classification_report(test_y, rf_preds, target_names=bow_input_df['product'].unique()))"
   ]
  },
  {
   "cell_type": "code",
   "execution_count": 13,
   "metadata": {},
   "outputs": [],
   "source": [
    "# Model 3: Linear Support Vector Machine\n",
    "svc_model = LinearSVC()\n",
    "svcc_model = CalibratedClassifierCV(svc_model)     \n",
    "svc_clf = svcc_model.fit(train_x, train_y)\n",
    "svc_preds = svcc_model.predict(test_x)\n",
    "svc_preds_conf = svcc_model.predict_proba(test_x)\n",
    "svc_preds_conf_df = pd.DataFrame(svc_preds_conf, index=range(svc_preds_conf.shape[0]), \n",
    "                                columns=range(svc_preds_conf.shape[1]))\n",
    "svc_preds_conf_df['predicted_conf'] = svc_preds_conf_df.max(axis=1)\n",
    "svc_results = pd.DataFrame(data={'actual_label':test_y, 'predicted_label':svc_preds})\n",
    "\n",
    "svc_results = pd.concat([svc_results, svc_preds_conf_df['predicted_conf']],axis=1)"
   ]
  },
  {
   "cell_type": "code",
   "execution_count": 14,
   "metadata": {},
   "outputs": [
    {
     "name": "stdout",
     "output_type": "stream",
     "text": [
      "Accuracy of Linear SVC obtained is: 40.01.\n",
      "                                                                              precision    recall  f1-score   support\n",
      "\n",
      "                                                                Student loan       0.51      0.56      0.53      4346\n",
      "                                                 Credit card or prepaid card       0.50      0.35      0.42      3198\n",
      "                                                                    Mortgage       0.47      0.34      0.39      2841\n",
      "                                                            Credit reporting       0.49      0.50      0.49      5671\n",
      "Credit reporting, credit repair services, or other personal consumer reports       0.50      0.41      0.45      5452\n",
      "                                                             Debt collection       0.57      0.30      0.39      9440\n",
      "                                                       Vehicle loan or lease       0.63      0.74      0.68     23573\n",
      "                          Money transfer, virtual currency, or money service       0.74      0.87      0.80     23859\n",
      "                                                 Checking or savings account       0.68      0.60      0.64      1410\n",
      "                                   Payday loan, title loan, or personal loan       0.40      0.15      0.21       452\n",
      "                                                               Consumer Loan       0.87      0.94      0.90     15108\n",
      "                                                     Bank account or service       0.00      0.00      0.00        89\n",
      "                                                                 Credit card       0.45      0.16      0.23       541\n",
      "                                                             Money transfers       0.43      0.20      0.27      1088\n",
      "                                                                Prepaid card       0.56      0.37      0.44       442\n",
      "                                                                 Payday loan       0.84      0.85      0.85      6019\n",
      "                                                     Other financial service       0.48      0.18      0.27      1441\n",
      "                                                            Virtual currency       0.00      0.00      0.00         6\n",
      "\n",
      "                                                                   micro avg       0.68      0.68      0.68    104976\n",
      "                                                                   macro avg       0.51      0.42      0.44    104976\n",
      "                                                                weighted avg       0.66      0.68      0.66    104976\n",
      "\n"
     ]
    }
   ],
   "source": [
    "# Accuracy: wherever the labels were correctly predicted.\n",
    "svc_results['correctly_predicted'] = np.where(svc_results['actual_label'] == svc_results['predicted_label'], 1, 0)\n",
    "svc_results.head()\n",
    "svc_accuracy = (svc_results['correctly_predicted'].sum()/svc_results.shape[0])*100\n",
    "print(\"Accuracy of Linear SVC obtained is: {0:.2f}.\".format(svc_accuracy))\n",
    "print(metrics.classification_report(test_y, svc_preds, target_names=bow_input_df['product'].unique()))"
   ]
  },
  {
   "cell_type": "markdown",
   "metadata": {},
   "source": [
    "#### Comparison between the models implemented\n",
    "- Of the Bag of Words models implemented, Random Forest performs the best with an accuracy of 41.49%.\n",
    "- As the number of features are limited in this Bag of Words model, this is expected. Sometimes, the Bag of Words model can outperform techniques like Word2Vec. However, in my case, limiting the number of features is putting a damper on the accuracy.\n",
    "\n",
    "#### Accuracies\n",
    "- Naive Bayes - 37.03\n",
    "- Random Forest - 41.49\n",
    "- Linear SVC - 40.01"
   ]
  },
  {
   "cell_type": "markdown",
   "metadata": {},
   "source": [
    "-----------------------------------------------------------------------------------------------------------------"
   ]
  },
  {
   "cell_type": "markdown",
   "metadata": {},
   "source": [
    "## Technique 2: Word2Vec\n",
    "I tried creating my own model for Word2Vec. However, this only contained 17million words, as opposed to Google's GoogleNews' pretrained Word2Vec model. So, I chose to go ahead with the pre-trained model.\n",
    "In lieu of time, I couldn't do this - but I would have preferred to complement the Google Word2Vec model with words from this dataset. This Word2Vec model is up until 2013, post which slang/other important words might have been introduced in the vocabulary. \n",
    "Of course, these words could also be company-complaint specific. For example, for ATB Bank, someone might be using ATB bank or a specific Policy name like ATBUltraInsurance. These would also be removed.\n",
    "Apart from this, these complaints contain a lot of spelling mistakes and words joined together. Such as: `immeditalely`, `demaging`,  `practiciing`, etc. (shown as missing_words in the cells below), and two words joined together into one word, such as 'givenrequesting'.\n",
    "I tried looking into it and found out about a library called TextBlob. However, people also warned against its used because it might not always be right. So I chose to not use it and skip over these words for now.\n",
    "There were also short forms not detected by the model."
   ]
  },
  {
   "cell_type": "code",
   "execution_count": 15,
   "metadata": {},
   "outputs": [],
   "source": [
    "# Creating a Word2Vec model using training set\n",
    "vocabulary_of_all_words = input_df['complaint'].tolist()\n",
    "num_features = 300\n",
    "min_word_count = 10                      \n",
    "num_workers = 8\n",
    "context = 10          # Context window size                                                                                    \n",
    "downsampling = 1e-3   # Downsampling for frequent words\n",
    "word2vec_model_name = \"trained_models/300features_10minwords_10context\"\n",
    "word2vec_complaints = word2vec.Word2Vec(vocabulary_of_all_words, workers=num_workers, size=num_features, \n",
    "                                   min_count=min_word_count, window=context, sample=downsampling)\n",
    "word2vec_complaints.save(word2vec_model_name)"
   ]
  },
  {
   "cell_type": "code",
   "execution_count": 16,
   "metadata": {},
   "outputs": [],
   "source": [
    "# Fetching trained model to save time.\n",
    "word2vec_complaints = gensim.models.Word2Vec.load(word2vec_model_name)"
   ]
  },
  {
   "cell_type": "code",
   "execution_count": 17,
   "metadata": {},
   "outputs": [],
   "source": [
    "vocab_lst_flat = [item for sublist in vocabulary_of_all_words for item in sublist]\n",
    "vocab_lst_flat = list(set(vocab_lst_flat))\n",
    "# Loading a pre-trained GoogleNews model\n",
    "# word2vec_model = KeyedVectors.load_word2vec_format(\"trained_models/GoogleNews-vectors-negative300.bin\", binary=True)"
   ]
  },
  {
   "cell_type": "code",
   "execution_count": 18,
   "metadata": {},
   "outputs": [
    {
     "name": "stdout",
     "output_type": "stream",
     "text": [
      "14678 78574 93252\n"
     ]
    }
   ],
   "source": [
    "# Exploring this model to see how well it has trained and checking for spelling mistakes in user-complaints\n",
    "try:\n",
    "    word2vec_complaints.wv.most_similar(\"good\")\n",
    "except KeyError:\n",
    "    print(\"Sorry, this word doesn't exist in the vocabulary.\")\n",
    "    \n",
    "words_not_present = 0\n",
    "words_present = 0\n",
    "total_unique_tokens = len(set(vocab_lst_flat))\n",
    "missing_words = []\n",
    "for i in vocab_lst_flat:\n",
    "    try:\n",
    "        p = word2vec_complaints[i]\n",
    "        words_present+=1\n",
    "    except KeyError:\n",
    "        missing_words.append(i)\n",
    "        words_not_present+=1\n",
    "print(words_present, words_not_present, total_unique_tokens)"
   ]
  },
  {
   "cell_type": "code",
   "execution_count": 19,
   "metadata": {},
   "outputs": [
    {
     "name": "stdout",
     "output_type": "stream",
     "text": [
      "['messagecould', 'veheicle', 'cocc', 'foreclosurebecause', 'emancipate', 'derogatorystatus', 'thon', 'paypaltransaction', 'mywallet', 'awere', 'utilitie', 'disputeafter', 'nastu', 'warfeild', 'fhea', 'ppeared', 'equalfor', 'xxxxxxxxtele', 'emergycare', 'maitance']\n"
     ]
    }
   ],
   "source": [
    "# Examples of spelling mistakes, grammatical errors, etc.\n",
    "print(missing_words[:20])"
   ]
  },
  {
   "cell_type": "markdown",
   "metadata": {},
   "source": [
    "#### Analyzing the Word2Vec Model\n",
    "- The Google word2vec model isn't able to account for a lot of words. It can be made better by retraining on more words from the training set available to us. However, a lot of these words are spelling mistakes. So the question would be - how to choose the right set of words to re-train this Google's model over?\n",
    "- More libraries which fix the spelling of words can be explored only for those cases which are being missed out by the model (represented by missing_words list above). However, again, fixing a spelling mistake can be fickle.\n",
    "- The presence of 'xxxx', 'xx', etc. in various forms is a simple fix which can also be implemented in the training set.\n",
    "- Initially, I had planned to use Google's pretrained Word2Vec model to represent my training set. However, after waiting for hours for training on Google word2vec model, I switched back to the Word2Vec model for want of speed."
   ]
  },
  {
   "cell_type": "code",
   "execution_count": 20,
   "metadata": {
    "scrolled": true
   },
   "outputs": [],
   "source": [
    "# ---\n",
    "# # These take a very long time to be averaged. Commenting this code and reading from file the saved output.\n",
    "# ---\n",
    "# embeddings_df = input_df['complaint'].apply(lambda complaint: get_average_word2vec(complaint, word2vec_complaints, \n",
    "#                                                                                    num_features)).to_frame()\n",
    "# col_lst = []\n",
    "# for i in range(num_features):\n",
    "#     col_lst.append('vec_'+str(i+1))\n",
    "# # Easy to write to file and process when exploded into columns\n",
    "# exploded_em_df = pd.DataFrame(embeddings_df.complaint.tolist(), columns=col_lst)\n",
    "# exploded_em_df = pd.DataFrame(embeddings_df)['complaint'].apply(pd.Series)\n",
    "# exploded_em_df.head()\n",
    "# exploded_em_df.to_csv(\"data/modified/vocab_trained_word2Vec.csv\", index=False)"
   ]
  },
  {
   "cell_type": "code",
   "execution_count": 21,
   "metadata": {},
   "outputs": [
    {
     "name": "stdout",
     "output_type": "stream",
     "text": [
      "Word2Vec output:\n",
      "\n"
     ]
    },
    {
     "data": {
      "text/html": [
       "<div>\n",
       "<style scoped>\n",
       "    .dataframe tbody tr th:only-of-type {\n",
       "        vertical-align: middle;\n",
       "    }\n",
       "\n",
       "    .dataframe tbody tr th {\n",
       "        vertical-align: top;\n",
       "    }\n",
       "\n",
       "    .dataframe thead th {\n",
       "        text-align: right;\n",
       "    }\n",
       "</style>\n",
       "<table border=\"1\" class=\"dataframe\">\n",
       "  <thead>\n",
       "    <tr style=\"text-align: right;\">\n",
       "      <th></th>\n",
       "      <th>0</th>\n",
       "      <th>1</th>\n",
       "      <th>2</th>\n",
       "      <th>3</th>\n",
       "      <th>4</th>\n",
       "      <th>5</th>\n",
       "      <th>6</th>\n",
       "      <th>7</th>\n",
       "      <th>8</th>\n",
       "      <th>9</th>\n",
       "      <th>...</th>\n",
       "      <th>290</th>\n",
       "      <th>291</th>\n",
       "      <th>292</th>\n",
       "      <th>293</th>\n",
       "      <th>294</th>\n",
       "      <th>295</th>\n",
       "      <th>296</th>\n",
       "      <th>297</th>\n",
       "      <th>298</th>\n",
       "      <th>299</th>\n",
       "    </tr>\n",
       "  </thead>\n",
       "  <tbody>\n",
       "    <tr>\n",
       "      <th>0</th>\n",
       "      <td>-0.044390</td>\n",
       "      <td>0.431329</td>\n",
       "      <td>-0.037583</td>\n",
       "      <td>-0.562910</td>\n",
       "      <td>0.749886</td>\n",
       "      <td>0.563165</td>\n",
       "      <td>-0.218987</td>\n",
       "      <td>-0.017564</td>\n",
       "      <td>0.008727</td>\n",
       "      <td>0.013138</td>\n",
       "      <td>...</td>\n",
       "      <td>-0.381942</td>\n",
       "      <td>0.378966</td>\n",
       "      <td>0.306838</td>\n",
       "      <td>-0.294844</td>\n",
       "      <td>0.248955</td>\n",
       "      <td>0.041946</td>\n",
       "      <td>0.314764</td>\n",
       "      <td>0.286428</td>\n",
       "      <td>-0.137486</td>\n",
       "      <td>-0.029800</td>\n",
       "    </tr>\n",
       "    <tr>\n",
       "      <th>1</th>\n",
       "      <td>-0.449600</td>\n",
       "      <td>-0.235843</td>\n",
       "      <td>-0.234160</td>\n",
       "      <td>0.773755</td>\n",
       "      <td>0.219879</td>\n",
       "      <td>-1.025284</td>\n",
       "      <td>-1.374882</td>\n",
       "      <td>1.774549</td>\n",
       "      <td>-0.589765</td>\n",
       "      <td>-0.588578</td>\n",
       "      <td>...</td>\n",
       "      <td>0.354155</td>\n",
       "      <td>-0.708604</td>\n",
       "      <td>-0.800504</td>\n",
       "      <td>0.057327</td>\n",
       "      <td>-0.745757</td>\n",
       "      <td>-0.106576</td>\n",
       "      <td>0.370323</td>\n",
       "      <td>0.025995</td>\n",
       "      <td>-0.415189</td>\n",
       "      <td>-0.014639</td>\n",
       "    </tr>\n",
       "    <tr>\n",
       "      <th>2</th>\n",
       "      <td>-0.153348</td>\n",
       "      <td>0.059681</td>\n",
       "      <td>-0.206620</td>\n",
       "      <td>0.199658</td>\n",
       "      <td>-0.445544</td>\n",
       "      <td>-0.407167</td>\n",
       "      <td>0.237810</td>\n",
       "      <td>0.023530</td>\n",
       "      <td>-0.311680</td>\n",
       "      <td>0.213545</td>\n",
       "      <td>...</td>\n",
       "      <td>-0.189978</td>\n",
       "      <td>0.126637</td>\n",
       "      <td>-0.329037</td>\n",
       "      <td>0.285830</td>\n",
       "      <td>0.130250</td>\n",
       "      <td>0.066599</td>\n",
       "      <td>-0.215613</td>\n",
       "      <td>-0.107374</td>\n",
       "      <td>-0.617056</td>\n",
       "      <td>-0.336326</td>\n",
       "    </tr>\n",
       "    <tr>\n",
       "      <th>3</th>\n",
       "      <td>0.046049</td>\n",
       "      <td>0.213279</td>\n",
       "      <td>0.048666</td>\n",
       "      <td>0.105835</td>\n",
       "      <td>0.053492</td>\n",
       "      <td>-0.279306</td>\n",
       "      <td>-0.165885</td>\n",
       "      <td>-0.058923</td>\n",
       "      <td>-0.165988</td>\n",
       "      <td>-0.173027</td>\n",
       "      <td>...</td>\n",
       "      <td>-0.086508</td>\n",
       "      <td>0.125770</td>\n",
       "      <td>0.042836</td>\n",
       "      <td>0.062695</td>\n",
       "      <td>0.029828</td>\n",
       "      <td>-0.118284</td>\n",
       "      <td>0.175451</td>\n",
       "      <td>-0.025208</td>\n",
       "      <td>-0.321435</td>\n",
       "      <td>-0.064858</td>\n",
       "    </tr>\n",
       "    <tr>\n",
       "      <th>4</th>\n",
       "      <td>-0.106485</td>\n",
       "      <td>0.073293</td>\n",
       "      <td>0.432965</td>\n",
       "      <td>-1.741339</td>\n",
       "      <td>-0.102293</td>\n",
       "      <td>0.255682</td>\n",
       "      <td>1.212548</td>\n",
       "      <td>-0.572600</td>\n",
       "      <td>0.216459</td>\n",
       "      <td>-0.829040</td>\n",
       "      <td>...</td>\n",
       "      <td>0.504210</td>\n",
       "      <td>0.034536</td>\n",
       "      <td>-0.222651</td>\n",
       "      <td>0.308653</td>\n",
       "      <td>-0.113117</td>\n",
       "      <td>-0.050028</td>\n",
       "      <td>0.157179</td>\n",
       "      <td>0.222842</td>\n",
       "      <td>-0.037337</td>\n",
       "      <td>-0.240833</td>\n",
       "    </tr>\n",
       "  </tbody>\n",
       "</table>\n",
       "<p>5 rows × 300 columns</p>\n",
       "</div>"
      ],
      "text/plain": [
       "          0         1         2         3         4         5         6  \\\n",
       "0 -0.044390  0.431329 -0.037583 -0.562910  0.749886  0.563165 -0.218987   \n",
       "1 -0.449600 -0.235843 -0.234160  0.773755  0.219879 -1.025284 -1.374882   \n",
       "2 -0.153348  0.059681 -0.206620  0.199658 -0.445544 -0.407167  0.237810   \n",
       "3  0.046049  0.213279  0.048666  0.105835  0.053492 -0.279306 -0.165885   \n",
       "4 -0.106485  0.073293  0.432965 -1.741339 -0.102293  0.255682  1.212548   \n",
       "\n",
       "          7         8         9    ...          290       291       292  \\\n",
       "0 -0.017564  0.008727  0.013138    ...    -0.381942  0.378966  0.306838   \n",
       "1  1.774549 -0.589765 -0.588578    ...     0.354155 -0.708604 -0.800504   \n",
       "2  0.023530 -0.311680  0.213545    ...    -0.189978  0.126637 -0.329037   \n",
       "3 -0.058923 -0.165988 -0.173027    ...    -0.086508  0.125770  0.042836   \n",
       "4 -0.572600  0.216459 -0.829040    ...     0.504210  0.034536 -0.222651   \n",
       "\n",
       "        293       294       295       296       297       298       299  \n",
       "0 -0.294844  0.248955  0.041946  0.314764  0.286428 -0.137486 -0.029800  \n",
       "1  0.057327 -0.745757 -0.106576  0.370323  0.025995 -0.415189 -0.014639  \n",
       "2  0.285830  0.130250  0.066599 -0.215613 -0.107374 -0.617056 -0.336326  \n",
       "3  0.062695  0.029828 -0.118284  0.175451 -0.025208 -0.321435 -0.064858  \n",
       "4  0.308653 -0.113117 -0.050028  0.157179  0.222842 -0.037337 -0.240833  \n",
       "\n",
       "[5 rows x 300 columns]"
      ]
     },
     "execution_count": 21,
     "metadata": {},
     "output_type": "execute_result"
    }
   ],
   "source": [
    "exploded_em_df = pd.read_csv('data/modified/vocab_trained_word2Vec.csv')\n",
    "print(\"Word2Vec output:\\n\")\n",
    "exploded_em_df.head()"
   ]
  },
  {
   "cell_type": "code",
   "execution_count": 22,
   "metadata": {},
   "outputs": [
    {
     "name": "stdout",
     "output_type": "stream",
     "text": [
      "True\n",
      "(349918, 301)\n"
     ]
    }
   ],
   "source": [
    "input_df = input_df.reset_index(drop=True)\n",
    "vectorized_df = pd.concat([exploded_em_df, input_df[['product']]], axis=1)                        \n",
    "vectorized_df = shuffle(vectorized_df)\n",
    "\n",
    "if vectorized_df[vectorized_df.isnull().any(axis=1)].empty:\n",
    "    res = \"True\" # No NaNs exist in the cleaned dataset.\n",
    "else:\n",
    "    res = \"False\"\n",
    "print(res)\n",
    "print(vectorized_df.shape)\n",
    "if not res:\n",
    "    vectorized_df[vectorized_df.isnull().any(axis=1)]\n",
    "    vectorized_df.dropna(axis=0, how='any')\n",
    "    print(vectorized_df.shape)"
   ]
  },
  {
   "cell_type": "markdown",
   "metadata": {},
   "source": [
    "### Training and Test Sets"
   ]
  },
  {
   "cell_type": "code",
   "execution_count": 56,
   "metadata": {},
   "outputs": [],
   "source": [
    "vectorized_data = np.array(vectorized_df.drop('product', axis=1))\n",
    "vectorized_target = np.array(vectorized_df['product'])\n",
    "\n",
    "train_x, test_x, train_y, test_y = train_test_split(vectorized_data, vectorized_target,\n",
    "                                                    test_size=0.3,\n",
    "                                                    random_state=123)"
   ]
  },
  {
   "cell_type": "markdown",
   "metadata": {},
   "source": [
    "### Modelling\n",
    "Some of the models that I tried:\n",
    "1. Random Forest Classifier: It is known to perform quite well by using dumb classfiers to build a powerful learning model\n",
    "2. Linear SVC: Seemed to perform well on examples online.\n",
    "3. Deep Neural Network - CNN: Upon reading online some discussion on this, I thought of implementing CNNs. It said - what has recently been shown to work much better and simpler than RNNs is using word vectors, pre-trained on a large corpus, as features to the neural network. RNNs were called 'slow and fickle to train'. "
   ]
  },
  {
   "cell_type": "code",
   "execution_count": 24,
   "metadata": {},
   "outputs": [
    {
     "name": "stderr",
     "output_type": "stream",
     "text": [
      "[Parallel(n_jobs=1)]: Using backend SequentialBackend with 1 concurrent workers.\n",
      "[Parallel(n_jobs=1)]: Done 100 out of 100 | elapsed: 11.1min finished\n",
      "[Parallel(n_jobs=1)]: Using backend SequentialBackend with 1 concurrent workers.\n",
      "[Parallel(n_jobs=1)]: Done 100 out of 100 | elapsed:    6.1s finished\n",
      "[Parallel(n_jobs=1)]: Using backend SequentialBackend with 1 concurrent workers.\n",
      "[Parallel(n_jobs=1)]: Done 100 out of 100 | elapsed:    6.0s finished\n"
     ]
    }
   ],
   "source": [
    "# Model 1: Random Forest Classifier\n",
    "rf_model = RandomForestClassifier(n_estimators = 100, max_features='sqrt', verbose=1, warm_start=False,\n",
    "                                 random_state=123) #ntrainDataVecs=4, max_depth=2)\n",
    "rf_clf = rf_model.fit(train_x, train_y)\n",
    "rf_preds = rf_clf.predict(test_x)\n",
    "rf_preds_conf = rf_clf.predict_proba(test_x)"
   ]
  },
  {
   "cell_type": "code",
   "execution_count": 25,
   "metadata": {},
   "outputs": [
    {
     "name": "stdout",
     "output_type": "stream",
     "text": [
      "Accuracy of Random Forest obtained is: 65.30.\n"
     ]
    }
   ],
   "source": [
    "rf_preds_conf_df = pd.DataFrame(rf_preds_conf, index=range(rf_preds_conf.shape[0]),\n",
    "                          columns=range(rf_preds_conf.shape[1]))\n",
    "rf_preds_conf_df['predicted_conf'] = rf_preds_conf_df.max(axis=1)\n",
    "rf_results = pd.DataFrame(data={\"actual_label\":test_y, \"predicted_label\":rf_preds})\n",
    "\n",
    "rf_results = pd.concat([rf_results, rf_preds_conf_df['predicted_conf']],\n",
    "                          axis=1)\n",
    "# Accuracy: wherever the labels were correctly predicted.\n",
    "rf_results['correctly_predicted'] = np.where(rf_results['actual_label'] == rf_results['predicted_label'], 1, 0)\n",
    "rf_accuracy = (rf_results['correctly_predicted'].sum()/rf_results.shape[0])*100"
   ]
  },
  {
   "cell_type": "code",
   "execution_count": 64,
   "metadata": {},
   "outputs": [
    {
     "name": "stdout",
     "output_type": "stream",
     "text": [
      "Accuracy of Random Forest obtained is: 65.30.\n",
      "                                                                              precision    recall  f1-score   support\n",
      "\n",
      "                                                                Student loan       0.41      0.51      0.45      4455\n",
      "                                                 Credit card or prepaid card       0.32      0.16      0.21      3202\n",
      "                                                                    Mortgage       0.47      0.04      0.08      2962\n",
      "                                                            Credit reporting       0.40      0.34      0.37      5610\n",
      "Credit reporting, credit repair services, or other personal consumer reports       0.37      0.30      0.33      5354\n",
      "                                                             Debt collection       0.80      0.24      0.37      9373\n",
      "                                                       Vehicle loan or lease       0.63      0.88      0.74     23410\n",
      "                          Money transfer, virtual currency, or money service       0.72      0.87      0.79     24158\n",
      "                                                 Checking or savings account       0.88      0.19      0.31      1403\n",
      "                                   Payday loan, title loan, or personal loan       1.00      0.00      0.01       443\n",
      "                                                               Consumer Loan       0.75      0.91      0.82     15025\n",
      "                                                     Bank account or service       1.00      0.01      0.02        80\n",
      "                                                                 Credit card       0.80      0.01      0.01       538\n",
      "                                                             Money transfers       0.75      0.01      0.01      1100\n",
      "                                                                Prepaid card       0.25      0.00      0.00       434\n",
      "                                                                 Payday loan       0.79      0.70      0.74      5993\n",
      "                                                     Other financial service       0.63      0.03      0.05      1430\n",
      "                                                            Virtual currency       1.00      0.17      0.29         6\n",
      "\n",
      "                                                                   micro avg       0.65      0.65      0.65    104976\n",
      "                                                                   macro avg       0.67      0.30      0.31    104976\n",
      "                                                                weighted avg       0.65      0.65      0.61    104976\n",
      "\n"
     ]
    }
   ],
   "source": [
    "# Accuracy: wherever the labels were correctly predicted.\n",
    "rf_results['correctly_predicted'] = np.where(rf_results['actual_label'] == rf_results['predicted_label'], 1, 0)\n",
    "rf_accuracy = (rf_results['correctly_predicted'].sum()/rf_results.shape[0])*100\n",
    "print(\"Accuracy of Random Forest obtained is: {0:.2f}.\".format(rf_accuracy))\n",
    "print(metrics.classification_report(test_y, rf_preds, target_names=bow_input_df['product'].unique()))"
   ]
  },
  {
   "cell_type": "code",
   "execution_count": 27,
   "metadata": {},
   "outputs": [],
   "source": [
    "# Model 2: Linear Support Vector Machine\n",
    "svc_model = LinearSVC()\n",
    "# CV = 5\n",
    "# accuracy = cross_val_score(svc_model, train_x, train_y, scoring='accuracy', cv=CV)\n",
    "# accuracy.mean() - obtained was 64.29%\n",
    "svcc_model = CalibratedClassifierCV(svc_model)     \n",
    "svc_clf = svcc_model.fit(train_x, train_y)"
   ]
  },
  {
   "cell_type": "code",
   "execution_count": 28,
   "metadata": {},
   "outputs": [
    {
     "name": "stdout",
     "output_type": "stream",
     "text": [
      "Accuracy of Linear SVC obtained is: 65.16.\n"
     ]
    }
   ],
   "source": [
    "svc_preds = svcc_model.predict(test_x)\n",
    "svc_preds_conf = svcc_model.predict_proba(test_x)\n",
    "svc_preds_conf_df = pd.DataFrame(svc_preds_conf, index=range(svc_preds_conf.shape[0]), \n",
    "                                columns=range(svc_preds_conf.shape[1]))\n",
    "svc_preds_conf_df['predicted_conf'] = svc_preds_conf_df.max(axis=1)\n",
    "svc_results = pd.DataFrame(data={'actual_label':test_y, 'predicted_label':svc_preds})\n",
    "\n",
    "svc_results = pd.concat([svc_results, svc_preds_conf_df['predicted_conf']],axis=1)\n",
    "# Accuracy: wherever the labels were correctly predicted.\n",
    "svc_results['correctly_predicted'] = np.where(svc_results['actual_label'] == svc_results['predicted_label'], 1, 0)\n",
    "svc_results.head()\n",
    "svc_accuracy = (svc_results['correctly_predicted'].sum()/svc_results.shape[0])*100"
   ]
  },
  {
   "cell_type": "code",
   "execution_count": 65,
   "metadata": {},
   "outputs": [
    {
     "name": "stdout",
     "output_type": "stream",
     "text": [
      "Accuracy of Linear SVC obtained is: 65.16.\n",
      "                                                                              precision    recall  f1-score   support\n",
      "\n",
      "                                                                Student loan       0.47      0.54      0.50      4455\n",
      "                                                 Credit card or prepaid card       0.43      0.19      0.27      3202\n",
      "                                                                    Mortgage       0.44      0.27      0.33      2962\n",
      "                                                            Credit reporting       0.46      0.36      0.40      5610\n",
      "Credit reporting, credit repair services, or other personal consumer reports       0.43      0.36      0.39      5354\n",
      "                                                             Debt collection       0.58      0.16      0.24      9373\n",
      "                                                       Vehicle loan or lease       0.59      0.76      0.66     23410\n",
      "                          Money transfer, virtual currency, or money service       0.72      0.87      0.79     24158\n",
      "                                                 Checking or savings account       0.66      0.52      0.58      1403\n",
      "                                   Payday loan, title loan, or personal loan       0.39      0.09      0.14       443\n",
      "                                                               Consumer Loan       0.82      0.95      0.88     15025\n",
      "                                                     Bank account or service       0.00      0.00      0.00        80\n",
      "                                                                 Credit card       0.41      0.09      0.14       538\n",
      "                                                             Money transfers       0.36      0.08      0.13      1100\n",
      "                                                                Prepaid card       0.63      0.22      0.33       434\n",
      "                                                                 Payday loan       0.81      0.83      0.82      5993\n",
      "                                                     Other financial service       0.46      0.03      0.06      1430\n",
      "                                                            Virtual currency       0.00      0.00      0.00         6\n",
      "\n",
      "                                                                   micro avg       0.65      0.65      0.65    104976\n",
      "                                                                   macro avg       0.48      0.35      0.37    104976\n",
      "                                                                weighted avg       0.63      0.65      0.62    104976\n",
      "\n"
     ]
    }
   ],
   "source": [
    "# Accuracy: wherever the labels were correctly predicted.\n",
    "svc_results['correctly_predicted'] = np.where(svc_results['actual_label'] == svc_results['predicted_label'], 1, 0)\n",
    "svc_results.head()\n",
    "svc_accuracy = (svc_results['correctly_predicted'].sum()/svc_results.shape[0])*100\n",
    "print(\"Accuracy of Linear SVC obtained is: {0:.2f}.\".format(svc_accuracy))\n",
    "print(metrics.classification_report(test_y, svc_preds, target_names=bow_input_df['product'].unique()))"
   ]
  },
  {
   "cell_type": "markdown",
   "metadata": {},
   "source": [
    "- These models are performing much better than Bag of Words model for my data.\n",
    "- I haven't been able to run this model properly. Because I ran it on a subset of values, class imbalance was causing the code to fail because y_train was not getting the right shape - it didn't have all possible value types. I would like to train this model with the complete code to check the results.\n",
    "- The accuracies obtained with Random Forest is 65.30%, 65.16% with Linear SVC. These models have better accuracies than Bag of Words model and of these Random Forest performs the best with vector embeddings as the input.\n"
   ]
  },
  {
   "cell_type": "code",
   "execution_count": null,
   "metadata": {},
   "outputs": [],
   "source": [
    "### Evaluation using the best Model: Random Forest using vector embeddings"
   ]
  },
  {
   "cell_type": "code",
   "execution_count": 69,
   "metadata": {},
   "outputs": [
    {
     "data": {
      "image/png": "[encoded data removed]",
      "text/plain": [
       "<Figure size 720x720 with 2 Axes>"
      ]
     },
     "metadata": {
      "needs_background": "light"
     },
     "output_type": "display_data"
    }
   ],
   "source": [
    "#Confusion Matrix\n",
    "products_count_df = df.groupby('product').complaint.count().to_frame()\n",
    "products_count_df.reset_index(level=0, inplace=True)\n",
    "product_class_labels = array(products_count_df['product'].unique())\n",
    "\n",
    "conf_mat = confusion_matrix(test_y, rf_preds)\n",
    "fig, ax = plt.subplots(figsize=(10,10))\n",
    "sns.heatmap(conf_mat, annot=True, fmt='d', xticklabels=product_class_labels, yticklabels=product_class_labels)\n",
    "plt.ylabel('Actual')\n",
    "plt.xlabel('Predicted')\n",
    "plt.show()"
   ]
  },
  {
   "cell_type": "markdown",
   "metadata": {},
   "source": [
    "- Lot of values can be seen on the diagonal, which is good for the model. Upsampling would probably help our case.\n",
    "- I also implemented a CNN Model with Keras using Keras Tokenizer. This isn't completely done yet. I'm still mentioning the code for your review."
   ]
  },
  {
   "cell_type": "code",
   "execution_count": null,
   "metadata": {},
   "outputs": [],
   "source": [
    "# Model 3: CNN using Keras\n",
    "from keras.layers import Embedding\n",
    "from keras.preprocessing.text import Tokenizer\n",
    "NUM_WORDS = 20000\n",
    "texts = train_df.complaints_untokenized\n",
    "products_unique = vectorized_df['product'].unique()\n",
    "\n",
    "dict_products = {}\n",
    "for i, complaint in enumerate(products_unique):\n",
    "    dict_products[complaint] = i\n",
    "labels = vectorized_df['product'].apply(lambda x:dict_products[x])\n",
    "\n",
    "vocab_lst_flat = [item for sublist in vocabulary_of_all_words for item in sublist]\n",
    "\n",
    "EMBEDDING_DIM=300\n",
    "vocabulary_size=min(len(word_index) + 1, NUM_WORDS)\n",
    "embedding_layer = Embedding(vocabulary_size, EMBEDDING_DIM)\n",
    "\n",
    "tokenizer = Tokenizer(num_words=NUM_WORDS,filters='!\"#$%&()*+,-./:;<=>?@[\\\\]^_`{|}~\\t\\n\\'',\n",
    "                      lower=True)\n",
    "tokenizer.fit_on_texts(texts)\n",
    "sequences_train = tokenizer.texts_to_sequences(texts)\n",
    "sequences_valid=tokenizer.texts_to_sequences(val_df.complaints_untokenized)\n",
    "word_index = tokenizer.word_index\n",
    "\n",
    "    \n",
    "train_df = train_df.drop(val_df.index)\n",
    "# sequences_train = tokenizer.texts_to_sequences(texts) #train_df.drop('product', axis=1).values\n",
    "# sequences_valid = val_df.drop('product', axis=1).values             \n",
    "                    \n",
    "size_train = len(train_x)\n",
    "size_test = len(test_x)\n",
    "output_labels_unique = np.asarray(sorted(list(set(labels))))\n",
    "\n",
    "X_train = pad_sequences(sequences_train)\n",
    "X_val = pad_sequences(sequences_valid,maxlen=X_train.shape[1]) #test\n",
    "# convert into dummy representation of the output labels\n",
    "y_train = to_categorical(np.asarray(labels[train_df.index]))\n",
    "y_val = to_categorical(np.asarray(labels[val_df.index]))"
   ]
  },
  {
   "cell_type": "code",
   "execution_count": null,
   "metadata": {},
   "outputs": [],
   "source": [
    "sequence_length = X_train.shape[1]\n",
    "filter_sizes = [3,4,5]\n",
    "num_filters = 100\n",
    "drop = 0.5\n",
    "\n",
    "output_dim = len(products_unique)\n",
    "\n",
    "print('Shape of X train and X test tensors:', X_train.shape, X_val.shape)\n",
    "print('Shape of label train and test tensors:', y_train.shape, y_val.shape)"
   ]
  },
  {
   "cell_type": "code",
   "execution_count": null,
   "metadata": {},
   "outputs": [],
   "source": [
    "inputs = Input(shape=(sequence_length,))\n",
    "embedding = embedding_layer(inputs)\n",
    "reshape = Reshape((sequence_length, EMBEDDING_DIM, 1))(embedding)\n",
    "\n",
    "conv_0 = Conv2D(num_filters, (filter_sizes[0], EMBEDDING_DIM), activation='relu', \n",
    "                                kernel_regularizer=regularizers.l2(0.01))(reshape)\n",
    "conv_1 = Conv2D(num_filters, (filter_sizes[1], EMBEDDING_DIM), activation='relu', \n",
    "                                kernel_regularizer=regularizers.l2(0.01))(reshape)\n",
    "conv_2 = Conv2D(num_filters, (filter_sizes[2], EMBEDDING_DIM), activation='relu', \n",
    "                                kernel_regularizer=regularizers.l2(0.01))(reshape)\n",
    "\n",
    "maxpool_0 = MaxPooling2D((sequence_length - filter_sizes[0] + 1, 1), strides=(1,1))(conv_0)\n",
    "maxpool_1 = MaxPooling2D((sequence_length - filter_sizes[1] + 1, 1), strides=(1,1))(conv_1)\n",
    "maxpool_2 = MaxPooling2D((sequence_length - filter_sizes[2] + 1, 1), strides=(1,1))(conv_2)\n",
    "\n",
    "merged_tensor = concatenate([maxpool_0, maxpool_1, maxpool_2], axis=1)\n",
    "flatten = Flatten()(merged_tensor)\n",
    "reshape = Reshape((3*num_filters,))(flatten)\n",
    "dropout = Dropout(drop)(flatten)\n",
    "output = Dense(units=output_dim, activation='softmax', kernel_regularizer=regularizers.l2(0.01))(dropout)\n",
    "\n",
    "cnn_model = Model(inputs, output)\n",
    "adam = Adam(lr=1e-3)\n",
    "cnn_model.compile(loss='categorical_crossentropy',\n",
    "              optimizer=adam,\n",
    "              metrics=['acc'])\n",
    "callbacks = [EarlyStopping(monitor='val_loss')]"
   ]
  },
  {
   "cell_type": "code",
   "execution_count": null,
   "metadata": {},
   "outputs": [],
   "source": [
    "cnn_model.fit(X_train, y_train, batch_size=1000, epochs=10, verbose=1, validation_data=(X_val, y_val),\n",
    "                callbacks=callbacks)"
   ]
  },
  {
   "cell_type": "code",
   "execution_count": null,
   "metadata": {},
   "outputs": [],
   "source": [
    "# Predicting on the test set\n",
    "sequences_test = test_x\n",
    "X_test = pad_sequences(sequences_test, maxlen=X_train.shape[1])\n",
    "cnn_preds = cnn_model.predict(X_test)\n",
    "print(\"Predictions from CNN completed.\")"
   ]
  },
  {
   "cell_type": "code",
   "execution_count": null,
   "metadata": {},
   "outputs": [],
   "source": [
    "cnn_results = pd.DataFrame(data={\"actual_label\":test_y, \"predicted_label\":cnn_preds})\n",
    "# Accuracy: wherever the labels were correctly predicted.\n",
    "cnn_results['correctly_predicted'] = np.where(cnn_results['actual_label'] == cnn_results['predicted_label'], \n",
    "                                                1, 0)\n",
    "cnn_accuracy = (naive_results['correctly_predicted'].sum()/cnn_results.shape[0])*100\n",
    "print(\"Accuracy of the CNN Model is: {0:.2f}.\".format(cnn_accuracy))"
   ]
  },
  {
   "cell_type": "markdown",
   "metadata": {},
   "source": [
    "-----------------------------------------------------------------------------------------------------------------"
   ]
  },
  {
   "cell_type": "markdown",
   "metadata": {},
   "source": [
    "## Conclusion\n",
    "\n",
    "- The model that performed best was: RF with word2Vec feature embeddings. It gave an accuracy measure of: 65.30%. This was obtained with the word2Vec model made out of the the training set.\n",
    "- Due to time constraints and even after taking a p2.xlarge instance, I wasn't able to run the code to completion for Random Forest with pre-trained word2Vec model of GoogleNews.\n",
    "- The model was saved using:\n",
    "\n",
    "        `pickle.dump(classifier, open('trained_models/best_model.sav', 'wb'))`\n",
    "\n",
    " to save the Random Forest classifier to storage for predictions with Flask. Thereafter, it was used to make predictions.\n",
    "\n",
    "- I was able to derive the probabilities associated with these predictions as well. These have been displayed in the Flask application. \n",
    "- Given more resources such as GPU, I would have run this on the complete dataset using the pre-trained Google word2Vec + CNN, which I haven't been able to."
   ]
  },
  {
   "cell_type": "markdown",
   "metadata": {},
   "source": [
    "-----------------------------------------------------------------------------------------------------------------"
   ]
  }
 ],
 "metadata": {
  "kernelspec": {
   "display_name": "Python 3",
   "language": "python",
   "name": "python3"
  },
  "language_info": {
   "codemirror_mode": {
    "name": "ipython",
    "version": 3
   },
   "file_extension": ".py",
   "mimetype": "text/x-python",
   "name": "python",
   "nbconvert_exporter": "python",
   "pygments_lexer": "ipython3",
   "version": "3.6.4"
  }
 },
 "nbformat": 4,
 "nbformat_minor": 2
}
